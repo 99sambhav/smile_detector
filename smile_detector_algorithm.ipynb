{
 "cells": [
  {
   "cell_type": "code",
   "execution_count": null,
   "id": "9ae144a6",
   "metadata": {},
   "outputs": [],
   "source": [
    "import cv2"
   ]
  },
  {
   "cell_type": "code",
   "execution_count": null,
   "id": "20d9e932",
   "metadata": {},
   "outputs": [],
   "source": [
    "detector=cv2.CascadeClassifier(\"./haarcascade_frontalface_default.xml\")\n",
    "detector2=cv2.CascadeClassifier(\"./haarcascade_smile1.xml\")"
   ]
  },
  {
   "cell_type": "code",
   "execution_count": null,
   "id": "9e6f3313",
   "metadata": {},
   "outputs": [],
   "source": [
    "cam=cv2.VideoCapture(0)"
   ]
  },
  {
   "cell_type": "code",
   "execution_count": null,
   "id": "a6315316",
   "metadata": {},
   "outputs": [],
   "source": [
    "while True:\n",
    "    ret,frame =cam.read()\n",
    "    if ret==False:\n",
    "        continue \n",
    "    all_faces=detector.detectMultiScale(frame,2,5)\n",
    "    smile=detector2.detectMultiScale(frame,1.5,60)\n",
    "    sorted_smile = sorted(smile, key=lambda s : s[-1]*s[-2])\n",
    "    if sorted_smile :\n",
    "        \n",
    "            x,y,h,w= sorted_smile[0]\n",
    "            frame=cv2.rectangle(frame,(x,y),(x+w,y+h),(255,0,0),2)\n",
    "            cv2.imshow(\"my frame\",frame)\n",
    "            key_pressed=cv2.waitKey(1) & 0xFF\n",
    "            if key_pressed == ord('q') :\n",
    "                break \n",
    "    \n",
    "cam.release()\n",
    "cv2.destroyAllWindows()"
   ]
  },
  {
   "cell_type": "code",
   "execution_count": null,
   "id": "1200ca69",
   "metadata": {},
   "outputs": [],
   "source": []
  },
  {
   "cell_type": "code",
   "execution_count": null,
   "id": "2e3ef412",
   "metadata": {},
   "outputs": [],
   "source": []
  },
  {
   "cell_type": "code",
   "execution_count": null,
   "id": "dc6bc826",
   "metadata": {},
   "outputs": [],
   "source": []
  },
  {
   "cell_type": "code",
   "execution_count": null,
   "id": "af329fc3",
   "metadata": {},
   "outputs": [],
   "source": []
  },
  {
   "cell_type": "code",
   "execution_count": null,
   "id": "e21e0dd4",
   "metadata": {},
   "outputs": [],
   "source": []
  }
 ],
 "metadata": {
  "kernelspec": {
   "display_name": "Python 3",
   "language": "python",
   "name": "python3"
  },
  "language_info": {
   "codemirror_mode": {
    "name": "ipython",
    "version": 3
   },
   "file_extension": ".py",
   "mimetype": "text/x-python",
   "name": "python",
   "nbconvert_exporter": "python",
   "pygments_lexer": "ipython3",
   "version": "3.8.8"
  }
 },
 "nbformat": 4,
 "nbformat_minor": 5
}
